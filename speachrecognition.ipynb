{
 "cells": [
  {
   "cell_type": "code",
   "execution_count": 1,
   "metadata": {},
   "outputs": [
    {
     "name": "stdout",
     "output_type": "stream",
     "text": [
      "Collecting pipwin\n",
      "Collecting js2py (from pipwin)\n",
      "  Using cached https://files.pythonhosted.org/packages/b3/20/6ebae407780de2b97f560ace49fb6b8d2ccf934e001bf9bd33ce4046d060/Js2Py-0.67-py3-none-any.whl\n",
      "Collecting robobrowser (from pipwin)\n",
      "Requirement already satisfied: requests in c:\\users\\pearl\\anaconda3\\lib\\site-packages (from pipwin) (2.22.0)\n",
      "Collecting docopt (from pipwin)\n",
      "Requirement already satisfied: six in c:\\users\\pearl\\anaconda3\\lib\\site-packages (from pipwin) (1.12.0)\n",
      "Requirement already satisfied: packaging in c:\\users\\pearl\\anaconda3\\lib\\site-packages (from pipwin) (19.2)\n",
      "Collecting pyprind (from pipwin)\n",
      "  Using cached https://files.pythonhosted.org/packages/1e/30/e76fb0c45da8aef49ea8d2a90d4e7a6877b45894c25f12fb961f009a891e/PyPrind-2.11.2-py3-none-any.whl\n",
      "Collecting tzlocal>=1.2 (from js2py->pipwin)\n",
      "  Using cached https://files.pythonhosted.org/packages/ef/99/53bd1ac9349262f59c1c421d8fcc2559ae8a5eeffed9202684756b648d33/tzlocal-2.0.0-py2.py3-none-any.whl\n",
      "Collecting pyjsparser>=2.5.1 (from js2py->pipwin)\n",
      "Requirement already satisfied: beautifulsoup4>=4.3.2 in c:\\users\\pearl\\anaconda3\\lib\\site-packages (from robobrowser->pipwin) (4.8.0)\n",
      "Requirement already satisfied: Werkzeug>=0.10.4 in c:\\users\\pearl\\anaconda3\\lib\\site-packages (from robobrowser->pipwin) (0.16.0)\n",
      "Requirement already satisfied: certifi>=2017.4.17 in c:\\users\\pearl\\anaconda3\\lib\\site-packages (from requests->pipwin) (2019.9.11)\n",
      "Requirement already satisfied: chardet<3.1.0,>=3.0.2 in c:\\users\\pearl\\anaconda3\\lib\\site-packages (from requests->pipwin) (3.0.4)\n",
      "Requirement already satisfied: idna<2.9,>=2.5 in c:\\users\\pearl\\anaconda3\\lib\\site-packages (from requests->pipwin) (2.8)\n",
      "Requirement already satisfied: urllib3!=1.25.0,!=1.25.1,<1.26,>=1.21.1 in c:\\users\\pearl\\anaconda3\\lib\\site-packages (from requests->pipwin) (1.24.2)\n",
      "Requirement already satisfied: pyparsing>=2.0.2 in c:\\users\\pearl\\anaconda3\\lib\\site-packages (from packaging->pipwin) (2.4.2)\n",
      "Requirement already satisfied: pytz in c:\\users\\pearl\\anaconda3\\lib\\site-packages (from tzlocal>=1.2->js2py->pipwin) (2019.3)\n",
      "Requirement already satisfied: soupsieve>=1.2 in c:\\users\\pearl\\anaconda3\\lib\\site-packages (from beautifulsoup4>=4.3.2->robobrowser->pipwin) (1.9.3)\n",
      "Installing collected packages: tzlocal, pyjsparser, js2py, robobrowser, docopt, pyprind, pipwin\n",
      "Successfully installed docopt-0.6.2 js2py-0.67 pipwin-0.4.6 pyjsparser-2.7.1 pyprind-2.11.2 robobrowser-0.5.3 tzlocal-2.0.0\n",
      "Note: you may need to restart the kernel to use updated packages.\n"
     ]
    }
   ],
   "source": [
    "pip install pipwin"
   ]
  },
  {
   "cell_type": "code",
   "execution_count": 4,
   "metadata": {},
   "outputs": [
    {
     "name": "stdout",
     "output_type": "stream",
     "text": [
      "Note: you may need to restart the kernel to use updated packages.\n"
     ]
    },
    {
     "name": "stderr",
     "output_type": "stream",
     "text": [
      "ERROR: unknown command \"win\"\n",
      "\n"
     ]
    }
   ],
   "source": [
    "pip win install Pyaudio"
   ]
  },
  {
   "cell_type": "code",
   "execution_count": 5,
   "metadata": {},
   "outputs": [
    {
     "name": "stdout",
     "output_type": "stream",
     "text": [
      "Collecting PyAudio\n",
      "  Using cached https://files.pythonhosted.org/packages/ab/42/b4f04721c5c5bfc196ce156b3c768998ef8c0ae3654ed29ea5020c749a6b/PyAudio-0.2.11.tar.gz\n",
      "Building wheels for collected packages: PyAudio\n",
      "  Building wheel for PyAudio (setup.py): started\n",
      "  Building wheel for PyAudio (setup.py): finished with status 'error'\n",
      "  Running setup.py clean for PyAudio\n",
      "Failed to build PyAudio\n",
      "Installing collected packages: PyAudio\n",
      "  Running setup.py install for PyAudio: started\n",
      "    Running setup.py install for PyAudio: finished with status 'error'\n",
      "Note: you may need to restart the kernel to use updated packages.\n"
     ]
    },
    {
     "name": "stderr",
     "output_type": "stream",
     "text": [
      "  ERROR: Command errored out with exit status 1:\n",
      "   command: 'C:\\Users\\Pearl\\Anaconda3\\python.exe' -u -c 'import sys, setuptools, tokenize; sys.argv[0] = '\"'\"'C:\\\\Users\\\\Pearl\\\\AppData\\\\Local\\\\Temp\\\\pip-install-i5vwjzyu\\\\PyAudio\\\\setup.py'\"'\"'; __file__='\"'\"'C:\\\\Users\\\\Pearl\\\\AppData\\\\Local\\\\Temp\\\\pip-install-i5vwjzyu\\\\PyAudio\\\\setup.py'\"'\"';f=getattr(tokenize, '\"'\"'open'\"'\"', open)(__file__);code=f.read().replace('\"'\"'\\r\\n'\"'\"', '\"'\"'\\n'\"'\"');f.close();exec(compile(code, __file__, '\"'\"'exec'\"'\"'))' bdist_wheel -d 'C:\\Users\\Pearl\\AppData\\Local\\Temp\\pip-wheel-spz2wgf9' --python-tag cp37\n",
      "       cwd: C:\\Users\\Pearl\\AppData\\Local\\Temp\\pip-install-i5vwjzyu\\PyAudio\\\n",
      "  Complete output (9 lines):\n",
      "  running bdist_wheel\n",
      "  running build\n",
      "  running build_py\n",
      "  creating build\n",
      "  creating build\\lib.win-amd64-3.7\n",
      "  copying src\\pyaudio.py -> build\\lib.win-amd64-3.7\n",
      "  running build_ext\n",
      "  building '_portaudio' extension\n",
      "  error: Microsoft Visual C++ 14.0 is required. Get it with \"Build Tools for Visual Studio\": https://visualstudio.microsoft.com/downloads/\n",
      "  ----------------------------------------\n",
      "  ERROR: Failed building wheel for PyAudio\n",
      "    ERROR: Command errored out with exit status 1:\n",
      "     command: 'C:\\Users\\Pearl\\Anaconda3\\python.exe' -u -c 'import sys, setuptools, tokenize; sys.argv[0] = '\"'\"'C:\\\\Users\\\\Pearl\\\\AppData\\\\Local\\\\Temp\\\\pip-install-i5vwjzyu\\\\PyAudio\\\\setup.py'\"'\"'; __file__='\"'\"'C:\\\\Users\\\\Pearl\\\\AppData\\\\Local\\\\Temp\\\\pip-install-i5vwjzyu\\\\PyAudio\\\\setup.py'\"'\"';f=getattr(tokenize, '\"'\"'open'\"'\"', open)(__file__);code=f.read().replace('\"'\"'\\r\\n'\"'\"', '\"'\"'\\n'\"'\"');f.close();exec(compile(code, __file__, '\"'\"'exec'\"'\"'))' install --record 'C:\\Users\\Pearl\\AppData\\Local\\Temp\\pip-record-vjxk0tkz\\install-record.txt' --single-version-externally-managed --compile\n",
      "         cwd: C:\\Users\\Pearl\\AppData\\Local\\Temp\\pip-install-i5vwjzyu\\PyAudio\\\n",
      "    Complete output (9 lines):\n",
      "    running install\n",
      "    running build\n",
      "    running build_py\n",
      "    creating build\n",
      "    creating build\\lib.win-amd64-3.7\n",
      "    copying src\\pyaudio.py -> build\\lib.win-amd64-3.7\n",
      "    running build_ext\n",
      "    building '_portaudio' extension\n",
      "    error: Microsoft Visual C++ 14.0 is required. Get it with \"Build Tools for Visual Studio\": https://visualstudio.microsoft.com/downloads/\n",
      "    ----------------------------------------\n",
      "ERROR: Command errored out with exit status 1: 'C:\\Users\\Pearl\\Anaconda3\\python.exe' -u -c 'import sys, setuptools, tokenize; sys.argv[0] = '\"'\"'C:\\\\Users\\\\Pearl\\\\AppData\\\\Local\\\\Temp\\\\pip-install-i5vwjzyu\\\\PyAudio\\\\setup.py'\"'\"'; __file__='\"'\"'C:\\\\Users\\\\Pearl\\\\AppData\\\\Local\\\\Temp\\\\pip-install-i5vwjzyu\\\\PyAudio\\\\setup.py'\"'\"';f=getattr(tokenize, '\"'\"'open'\"'\"', open)(__file__);code=f.read().replace('\"'\"'\\r\\n'\"'\"', '\"'\"'\\n'\"'\"');f.close();exec(compile(code, __file__, '\"'\"'exec'\"'\"'))' install --record 'C:\\Users\\Pearl\\AppData\\Local\\Temp\\pip-record-vjxk0tkz\\install-record.txt' --single-version-externally-managed --compile Check the logs for full command output.\n"
     ]
    }
   ],
   "source": [
    "pip install PyAudio"
   ]
  },
  {
   "cell_type": "code",
   "execution_count": 6,
   "metadata": {},
   "outputs": [
    {
     "ename": "SyntaxError",
     "evalue": "invalid syntax (<ipython-input-6-ea5ac40b5955>, line 1)",
     "output_type": "error",
     "traceback": [
      "\u001b[1;36m  File \u001b[1;32m\"<ipython-input-6-ea5ac40b5955>\"\u001b[1;36m, line \u001b[1;32m1\u001b[0m\n\u001b[1;33m    pipwin install Pyaudio\u001b[0m\n\u001b[1;37m                 ^\u001b[0m\n\u001b[1;31mSyntaxError\u001b[0m\u001b[1;31m:\u001b[0m invalid syntax\n"
     ]
    }
   ],
   "source": [
    "pipwin install Pyaudio"
   ]
  },
  {
   "cell_type": "code",
   "execution_count": 7,
   "metadata": {},
   "outputs": [
    {
     "ename": "SyntaxError",
     "evalue": "invalid syntax (<ipython-input-7-b8d7c797a59c>, line 1)",
     "output_type": "error",
     "traceback": [
      "\u001b[1;36m  File \u001b[1;32m\"<ipython-input-7-b8d7c797a59c>\"\u001b[1;36m, line \u001b[1;32m1\u001b[0m\n\u001b[1;33m    pipwin install pyaudio\u001b[0m\n\u001b[1;37m                 ^\u001b[0m\n\u001b[1;31mSyntaxError\u001b[0m\u001b[1;31m:\u001b[0m invalid syntax\n"
     ]
    }
   ],
   "source": [
    "pipwin install pyaudio"
   ]
  },
  {
   "cell_type": "code",
   "execution_count": 10,
   "metadata": {},
   "outputs": [
    {
     "name": "stdout",
     "output_type": "stream",
     "text": [
      "say\n",
      "sorry--- Try again\n"
     ]
    }
   ],
   "source": [
    "import speech_recognition as sr\n",
    "\n",
    "r = sr.Recognizer()\n",
    "\n",
    "with sr.Microphone() as source:\n",
    "    print('say')\n",
    "    audio = r.listen(source,timeout=10)\n",
    "    \n",
    "try:\n",
    "    text = r.recognize_google(audio)\n",
    "    \n",
    "    print(\"you are saying\")\n",
    "    print(text)\n",
    "\n",
    "except:\n",
    "      print('sorry--- Try again')"
   ]
  },
  {
   "cell_type": "code",
   "execution_count": 11,
   "metadata": {},
   "outputs": [
    {
     "name": "stdout",
     "output_type": "stream",
     "text": [
      "say\n",
      "you are saying\n",
      "hello\n"
     ]
    }
   ],
   "source": [
    "import speech_recognition as sr\n",
    "\n",
    "r = sr.Recognizer()\n",
    "\n",
    "with sr.Microphone() as source:\n",
    "    print('say')\n",
    "    audio = r.listen(source,timeout=10)\n",
    "    \n",
    "try:\n",
    "    text = r.recognize_google(audio)\n",
    "    \n",
    "    print(\"you are saying\")\n",
    "    print(text)\n",
    "\n",
    "except:\n",
    "      print('sorry--- Try again')"
   ]
  },
  {
   "cell_type": "code",
   "execution_count": null,
   "metadata": {},
   "outputs": [],
   "source": []
  }
 ],
 "metadata": {
  "kernelspec": {
   "display_name": "Python 3",
   "language": "python",
   "name": "python3"
  },
  "language_info": {
   "codemirror_mode": {
    "name": "ipython",
    "version": 3
   },
   "file_extension": ".py",
   "mimetype": "text/x-python",
   "name": "python",
   "nbconvert_exporter": "python",
   "pygments_lexer": "ipython3",
   "version": "3.7.4"
  }
 },
 "nbformat": 4,
 "nbformat_minor": 2
}
